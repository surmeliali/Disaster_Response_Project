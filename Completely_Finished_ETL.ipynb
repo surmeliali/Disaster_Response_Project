{
 "cells": [
  {
   "cell_type": "code",
   "execution_count": 1,
   "metadata": {},
   "outputs": [],
   "source": [
    "import pandas as pd\n",
    "import numpy as np\n",
    "import sys\n",
    "from sqlalchemy import create_engine\n"
   ]
  },
  {
   "cell_type": "code",
   "execution_count": 2,
   "metadata": {},
   "outputs": [],
   "source": [
    "def load_data(messages_filepath,categories_filepath):\n",
    "    \n",
    "    '''We will read two dataframe and merge them on id column\n",
    "    \n",
    "       Our output will be the new dataframe called df which merged of messages and categories..\n",
    "    \n",
    "    '''\n",
    "    \n",
    "    # READ DATASETS\n",
    "    messages_df=pd.read_csv(messages_filepath)\n",
    "    categories_df=pd.read_csv(categories_filepath)\n",
    "    \n",
    "    # MERGE DATASETS\n",
    "    df= messages_df.merge(categories_df, on='id')\n",
    "    \n",
    "    # RETURN OUTPUT\n",
    "    \n",
    "    return df"
   ]
  },
  {
   "cell_type": "code",
   "execution_count": 3,
   "metadata": {},
   "outputs": [],
   "source": [
    "def clean_data(df):\n",
    "    \n",
    "    categories=df['categories'].str.split(';',expand=True)\n",
    "    \n",
    "    category_colnames=categories.loc[0].str.split('-',expand=True)[0].tolist()\n",
    "    \n",
    "    categories.columns=category_colnames\n",
    "    \n",
    "    for i in categories:        \n",
    "        categories[i]  = pd.to_numeric(categories[i].str[-1])\n",
    "        \n",
    "    categories['id']=df['id']\n",
    "    \n",
    "    df=df.merge(categories,on='id')\n",
    "    \n",
    "    df = df.drop_duplicates(subset='id', keep='first')\n",
    "    \n",
    "    df.drop('categories',axis=1,inplace=True)\n",
    "    \n",
    "    \n",
    "    return df\n",
    "    "
   ]
  },
  {
   "cell_type": "code",
   "execution_count": 4,
   "metadata": {},
   "outputs": [],
   "source": [
    "def save_data(df, database_filename):\n",
    "    \n",
    "    \"\"\"\n",
    "    Saves given dataframe into an table in SQLite database file.\n",
    "    Input:\n",
    "    - df: DataFrame <- Pandas DataFrame containing cleaned data of messages and categories\n",
    "    - database_filename: String <- Location of file where the database file is to be stored    \n",
    "    \"\"\"\n",
    "    # Create connection with database\n",
    "    engine = create_engine('sqlite:///'+ database_filename)\n",
    "    \n",
    "    # Save dataset to database table\n",
    "    df.to_sql('DisasterData_Clean', engine, index=False)\n"
   ]
  },
  {
   "cell_type": "code",
   "execution_count": 20,
   "metadata": {
    "collapsed": true
   },
   "outputs": [],
   "source": [
    "def main():\n",
    "    \n",
    "    messages_filepath='/Users/alisurmeli/Documents/Python_Nanodegree/Project_Disaster Response/messages.csv'\n",
    "    categories_filepath='/Users/alisurmeli/Documents/Python_Nanodegree/Project_Disaster Response/categories.csv'\n",
    "    database_filename='Disaster_response_pipe.db'\n",
    "    \n",
    "    \n",
    "    print('Loading data...\\n    MESSAGES: {}\\n    CATEGORIES: {}'.format(messages_filepath, categories_filepath))\n",
    "    df = load_data(messages_filepath, categories_filepath)\n",
    "    \n",
    "    print('Cleaning data...')\n",
    "    df = clean_data(df)\n",
    "    \n",
    "    print('Saving data...\\n    DATABASE: {}'.format(database_filename))\n",
    "    save_data(df, database_filename)\n",
    "    \n",
    "    print('Cleaned data saved to database!')\n",
    "        "
   ]
  },
  {
   "cell_type": "code",
   "execution_count": 21,
   "metadata": {},
   "outputs": [
    {
     "name": "stdout",
     "output_type": "stream",
     "text": [
      "Loading data...\n",
      "    MESSAGES: /Users/alisurmeli/Documents/Python_Nanodegree/Project_Disaster Response/messages.csv\n",
      "    CATEGORIES: /Users/alisurmeli/Documents/Python_Nanodegree/Project_Disaster Response/categories.csv\n",
      "Cleaning data...\n",
      "Saving data...\n",
      "    DATABASE: disaster_response_pipe.db\n",
      "Cleaned data saved to database!\n"
     ]
    }
   ],
   "source": [
    "if __name__ == '__main__':\n",
    "    main()\n",
    "    "
   ]
  },
  {
   "cell_type": "code",
   "execution_count": null,
   "metadata": {
    "collapsed": true
   },
   "outputs": [],
   "source": []
  }
 ],
 "metadata": {
  "kernelspec": {
   "display_name": "Python 3",
   "language": "python",
   "name": "python3"
  },
  "language_info": {
   "codemirror_mode": {
    "name": "ipython",
    "version": 3
   },
   "file_extension": ".py",
   "mimetype": "text/x-python",
   "name": "python",
   "nbconvert_exporter": "python",
   "pygments_lexer": "ipython3",
   "version": "3.6.10"
  }
 },
 "nbformat": 4,
 "nbformat_minor": 2
}
